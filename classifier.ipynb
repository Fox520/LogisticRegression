{
 "cells": [
  {
   "cell_type": "code",
   "execution_count": 1,
   "metadata": {},
   "outputs": [],
   "source": [
    "using CSV\n",
    "using DataFrames\n",
    "using StatsBase  # For standardization"
   ]
  },
  {
   "cell_type": "code",
   "execution_count": 2,
   "metadata": {},
   "outputs": [
    {
     "data": {
      "text/html": [
       "<table class=\"data-frame\"><thead><tr><th></th><th>age</th><th>job</th><th>marital</th><th>education</th><th>default</th><th>housing</th><th>loan</th></tr><tr><th></th><th>Int64</th><th>String</th><th>String</th><th>String</th><th>String</th><th>String</th><th>String</th></tr></thead><tbody><p>41,188 rows × 21 columns (omitted printing of 14 columns)</p><tr><th>1</th><td>56</td><td>housemaid</td><td>married</td><td>basic.4y</td><td>no</td><td>no</td><td>no</td></tr><tr><th>2</th><td>57</td><td>services</td><td>married</td><td>high.school</td><td>unknown</td><td>no</td><td>no</td></tr><tr><th>3</th><td>37</td><td>services</td><td>married</td><td>high.school</td><td>no</td><td>yes</td><td>no</td></tr><tr><th>4</th><td>40</td><td>admin.</td><td>married</td><td>basic.6y</td><td>no</td><td>no</td><td>no</td></tr><tr><th>5</th><td>56</td><td>services</td><td>married</td><td>high.school</td><td>no</td><td>no</td><td>yes</td></tr><tr><th>6</th><td>45</td><td>services</td><td>married</td><td>basic.9y</td><td>unknown</td><td>no</td><td>no</td></tr><tr><th>7</th><td>59</td><td>admin.</td><td>married</td><td>professional.course</td><td>no</td><td>no</td><td>no</td></tr><tr><th>8</th><td>41</td><td>blue-collar</td><td>married</td><td>unknown</td><td>unknown</td><td>no</td><td>no</td></tr><tr><th>9</th><td>24</td><td>technician</td><td>single</td><td>professional.course</td><td>no</td><td>yes</td><td>no</td></tr><tr><th>10</th><td>25</td><td>services</td><td>single</td><td>high.school</td><td>no</td><td>yes</td><td>no</td></tr><tr><th>11</th><td>41</td><td>blue-collar</td><td>married</td><td>unknown</td><td>unknown</td><td>no</td><td>no</td></tr><tr><th>12</th><td>25</td><td>services</td><td>single</td><td>high.school</td><td>no</td><td>yes</td><td>no</td></tr><tr><th>13</th><td>29</td><td>blue-collar</td><td>single</td><td>high.school</td><td>no</td><td>no</td><td>yes</td></tr><tr><th>14</th><td>57</td><td>housemaid</td><td>divorced</td><td>basic.4y</td><td>no</td><td>yes</td><td>no</td></tr><tr><th>15</th><td>35</td><td>blue-collar</td><td>married</td><td>basic.6y</td><td>no</td><td>yes</td><td>no</td></tr><tr><th>16</th><td>54</td><td>retired</td><td>married</td><td>basic.9y</td><td>unknown</td><td>yes</td><td>yes</td></tr><tr><th>17</th><td>35</td><td>blue-collar</td><td>married</td><td>basic.6y</td><td>no</td><td>yes</td><td>no</td></tr><tr><th>18</th><td>46</td><td>blue-collar</td><td>married</td><td>basic.6y</td><td>unknown</td><td>yes</td><td>yes</td></tr><tr><th>19</th><td>50</td><td>blue-collar</td><td>married</td><td>basic.9y</td><td>no</td><td>yes</td><td>yes</td></tr><tr><th>20</th><td>39</td><td>management</td><td>single</td><td>basic.9y</td><td>unknown</td><td>no</td><td>no</td></tr><tr><th>21</th><td>30</td><td>unemployed</td><td>married</td><td>high.school</td><td>no</td><td>no</td><td>no</td></tr><tr><th>22</th><td>55</td><td>blue-collar</td><td>married</td><td>basic.4y</td><td>unknown</td><td>yes</td><td>no</td></tr><tr><th>23</th><td>55</td><td>retired</td><td>single</td><td>high.school</td><td>no</td><td>yes</td><td>no</td></tr><tr><th>24</th><td>41</td><td>technician</td><td>single</td><td>high.school</td><td>no</td><td>yes</td><td>no</td></tr><tr><th>25</th><td>37</td><td>admin.</td><td>married</td><td>high.school</td><td>no</td><td>yes</td><td>no</td></tr><tr><th>26</th><td>35</td><td>technician</td><td>married</td><td>university.degree</td><td>no</td><td>no</td><td>yes</td></tr><tr><th>27</th><td>59</td><td>technician</td><td>married</td><td>unknown</td><td>no</td><td>yes</td><td>no</td></tr><tr><th>28</th><td>39</td><td>self-employed</td><td>married</td><td>basic.9y</td><td>unknown</td><td>no</td><td>no</td></tr><tr><th>29</th><td>54</td><td>technician</td><td>single</td><td>university.degree</td><td>unknown</td><td>no</td><td>no</td></tr><tr><th>30</th><td>55</td><td>unknown</td><td>married</td><td>university.degree</td><td>unknown</td><td>unknown</td><td>unknown</td></tr><tr><th>&vellip;</th><td>&vellip;</td><td>&vellip;</td><td>&vellip;</td><td>&vellip;</td><td>&vellip;</td><td>&vellip;</td><td>&vellip;</td></tr></tbody></table>"
      ],
      "text/latex": [
       "\\begin{tabular}{r|cccccccc}\n",
       "\t& age & job & marital & education & default & housing & loan & \\\\\n",
       "\t\\hline\n",
       "\t& Int64 & String & String & String & String & String & String & \\\\\n",
       "\t\\hline\n",
       "\t1 & 56 & housemaid & married & basic.4y & no & no & no & $\\dots$ \\\\\n",
       "\t2 & 57 & services & married & high.school & unknown & no & no & $\\dots$ \\\\\n",
       "\t3 & 37 & services & married & high.school & no & yes & no & $\\dots$ \\\\\n",
       "\t4 & 40 & admin. & married & basic.6y & no & no & no & $\\dots$ \\\\\n",
       "\t5 & 56 & services & married & high.school & no & no & yes & $\\dots$ \\\\\n",
       "\t6 & 45 & services & married & basic.9y & unknown & no & no & $\\dots$ \\\\\n",
       "\t7 & 59 & admin. & married & professional.course & no & no & no & $\\dots$ \\\\\n",
       "\t8 & 41 & blue-collar & married & unknown & unknown & no & no & $\\dots$ \\\\\n",
       "\t9 & 24 & technician & single & professional.course & no & yes & no & $\\dots$ \\\\\n",
       "\t10 & 25 & services & single & high.school & no & yes & no & $\\dots$ \\\\\n",
       "\t11 & 41 & blue-collar & married & unknown & unknown & no & no & $\\dots$ \\\\\n",
       "\t12 & 25 & services & single & high.school & no & yes & no & $\\dots$ \\\\\n",
       "\t13 & 29 & blue-collar & single & high.school & no & no & yes & $\\dots$ \\\\\n",
       "\t14 & 57 & housemaid & divorced & basic.4y & no & yes & no & $\\dots$ \\\\\n",
       "\t15 & 35 & blue-collar & married & basic.6y & no & yes & no & $\\dots$ \\\\\n",
       "\t16 & 54 & retired & married & basic.9y & unknown & yes & yes & $\\dots$ \\\\\n",
       "\t17 & 35 & blue-collar & married & basic.6y & no & yes & no & $\\dots$ \\\\\n",
       "\t18 & 46 & blue-collar & married & basic.6y & unknown & yes & yes & $\\dots$ \\\\\n",
       "\t19 & 50 & blue-collar & married & basic.9y & no & yes & yes & $\\dots$ \\\\\n",
       "\t20 & 39 & management & single & basic.9y & unknown & no & no & $\\dots$ \\\\\n",
       "\t21 & 30 & unemployed & married & high.school & no & no & no & $\\dots$ \\\\\n",
       "\t22 & 55 & blue-collar & married & basic.4y & unknown & yes & no & $\\dots$ \\\\\n",
       "\t23 & 55 & retired & single & high.school & no & yes & no & $\\dots$ \\\\\n",
       "\t24 & 41 & technician & single & high.school & no & yes & no & $\\dots$ \\\\\n",
       "\t25 & 37 & admin. & married & high.school & no & yes & no & $\\dots$ \\\\\n",
       "\t26 & 35 & technician & married & university.degree & no & no & yes & $\\dots$ \\\\\n",
       "\t27 & 59 & technician & married & unknown & no & yes & no & $\\dots$ \\\\\n",
       "\t28 & 39 & self-employed & married & basic.9y & unknown & no & no & $\\dots$ \\\\\n",
       "\t29 & 54 & technician & single & university.degree & unknown & no & no & $\\dots$ \\\\\n",
       "\t30 & 55 & unknown & married & university.degree & unknown & unknown & unknown & $\\dots$ \\\\\n",
       "\t$\\dots$ & $\\dots$ & $\\dots$ & $\\dots$ & $\\dots$ & $\\dots$ & $\\dots$ & $\\dots$ &  \\\\\n",
       "\\end{tabular}\n"
      ],
      "text/plain": [
       "41188×21 DataFrame. Omitted printing of 16 columns\n",
       "│ Row   │ age   │ job         │ marital  │ education           │ default │\n",
       "│       │ \u001b[90mInt64\u001b[39m │ \u001b[90mString\u001b[39m      │ \u001b[90mString\u001b[39m   │ \u001b[90mString\u001b[39m              │ \u001b[90mString\u001b[39m  │\n",
       "├───────┼───────┼─────────────┼──────────┼─────────────────────┼─────────┤\n",
       "│ 1     │ 56    │ housemaid   │ married  │ basic.4y            │ no      │\n",
       "│ 2     │ 57    │ services    │ married  │ high.school         │ unknown │\n",
       "│ 3     │ 37    │ services    │ married  │ high.school         │ no      │\n",
       "│ 4     │ 40    │ admin.      │ married  │ basic.6y            │ no      │\n",
       "│ 5     │ 56    │ services    │ married  │ high.school         │ no      │\n",
       "│ 6     │ 45    │ services    │ married  │ basic.9y            │ unknown │\n",
       "│ 7     │ 59    │ admin.      │ married  │ professional.course │ no      │\n",
       "│ 8     │ 41    │ blue-collar │ married  │ unknown             │ unknown │\n",
       "│ 9     │ 24    │ technician  │ single   │ professional.course │ no      │\n",
       "│ 10    │ 25    │ services    │ single   │ high.school         │ no      │\n",
       "⋮\n",
       "│ 41178 │ 57    │ retired     │ married  │ professional.course │ no      │\n",
       "│ 41179 │ 62    │ retired     │ married  │ university.degree   │ no      │\n",
       "│ 41180 │ 64    │ retired     │ divorced │ professional.course │ no      │\n",
       "│ 41181 │ 36    │ admin.      │ married  │ university.degree   │ no      │\n",
       "│ 41182 │ 37    │ admin.      │ married  │ university.degree   │ no      │\n",
       "│ 41183 │ 29    │ unemployed  │ single   │ basic.4y            │ no      │\n",
       "│ 41184 │ 73    │ retired     │ married  │ professional.course │ no      │\n",
       "│ 41185 │ 46    │ blue-collar │ married  │ professional.course │ no      │\n",
       "│ 41186 │ 56    │ retired     │ married  │ university.degree   │ no      │\n",
       "│ 41187 │ 44    │ technician  │ married  │ professional.course │ no      │\n",
       "│ 41188 │ 74    │ retired     │ married  │ professional.course │ no      │"
      ]
     },
     "execution_count": 2,
     "metadata": {},
     "output_type": "execute_result"
    }
   ],
   "source": [
    "# Load the dataset\n",
    "file_path = \"bank-additional-full.csv\"\n",
    "df = CSV.read(file_path)"
   ]
  },
  {
   "cell_type": "code",
   "execution_count": 3,
   "metadata": {},
   "outputs": [
    {
     "data": {
      "text/plain": [
       "41188-element Array{String,1}:\n",
       " #undef\n",
       " #undef\n",
       " #undef\n",
       " #undef\n",
       " #undef\n",
       " #undef\n",
       " #undef\n",
       " #undef\n",
       " #undef\n",
       " #undef\n",
       " #undef\n",
       " #undef\n",
       " #undef\n",
       "   ⋮   \n",
       " #undef\n",
       " #undef\n",
       " #undef\n",
       " #undef\n",
       " #undef\n",
       " #undef\n",
       " #undef\n",
       " #undef\n",
       " #undef\n",
       " #undef\n",
       " #undef\n",
       " #undef"
      ]
     },
     "execution_count": 3,
     "metadata": {},
     "output_type": "execute_result"
    }
   ],
   "source": [
    "# Convert dataframe to matrix\n",
    "m = convert(Matrix, df)\n",
    "# Categorical feature vectors which need mapping to numbers\n",
    "marital_vector = Array{String,1}(undef, size(m)[1])\n",
    "default_vector = Array{String,1}(undef, size(m)[1])\n",
    "loan_vector = Array{String,1}(undef, size(m)[1])\n",
    "month_vector = Array{String,1}(undef, size(m)[1])\n",
    "duration_vector = Array{Int64,1}(undef, size(m)[1])\n",
    "poutcome_vector = Array{String,1}(undef, size(m)[1])\n",
    "pdays_vector = Array{Float64,1}(undef, size(m)[1]) #new\n",
    "nr_emp_vector = Array{Float64,1}(undef, size(m)[1]) #new\n",
    "euribor3m_vector = Array{Float64,1}(undef, size(m)[1]) #new\n",
    "conf_idx_vector = Array{Float64,1}(undef, size(m)[1]) #new\n",
    "price_idx_vector = Array{Float64,1}(undef, size(m)[1]) #new\n",
    "\n",
    "job_vector = Array{String,1}(undef, size(m)[1])\n",
    "education_vector = Array{String,1}(undef, size(m)[1])\n",
    "housing_vector = Array{String,1}(undef, size(m)[1])\n",
    "contact_vector = Array{String,1}(undef, size(m)[1])\n",
    "dow_vector = Array{String,1}(undef, size(m)[1])\n",
    "y_vector = Array{String,1}(undef, size(m)[1])"
   ]
  },
  {
   "cell_type": "code",
   "execution_count": 4,
   "metadata": {},
   "outputs": [],
   "source": [
    "# Map categorical features to numbers\n",
    "for i in 1:size(m)[1]\n",
    "    for j in 1:size(m)[2]\n",
    "        # Check if columns match\n",
    "        if j == 3\n",
    "            marital_vector[i] = m[i,j]\n",
    "        elseif j == 5\n",
    "            default_vector[i] = m[i,j]\n",
    "        elseif j == 7\n",
    "            loan_vector[i] = m[i,j]\n",
    "        elseif j == 9\n",
    "            month_vector[i] = m[i,j]\n",
    "        elseif j == 11\n",
    "            duration_vector[i] = m[i,j]\n",
    "        elseif j == 15\n",
    "            poutcome_vector[i] = m[i,j]\n",
    "        elseif j == 2\n",
    "            job_vector[i] = m[i,j]\n",
    "        elseif j == 4\n",
    "            education_vector[i] = m[i,j]\n",
    "        elseif j == 6\n",
    "            housing_vector[i] = m[i,j]\n",
    "        elseif j == 8\n",
    "            contact_vector[i] = m[i,j]\n",
    "        elseif j == 10\n",
    "            dow_vector[i] = m[i,j]\n",
    "        elseif j == 21\n",
    "            y_vector[i] = m[i,j]\n",
    "        elseif j == 13\n",
    "            pdays_vector[i] = m[i,j]\n",
    "        elseif j == 20\n",
    "            nr_emp_vector[i] = m[i,j]\n",
    "        elseif j == 19\n",
    "            euribor3m_vector[i] = m[i,j]\n",
    "        elseif j == 18\n",
    "            conf_idx_vector[i] = m[i,j]\n",
    "        elseif j == 17\n",
    "            price_idx_vector[i] = m[i,j]\n",
    "        end\n",
    "    end\n",
    "end"
   ]
  },
  {
   "cell_type": "code",
   "execution_count": 5,
   "metadata": {},
   "outputs": [
    {
     "data": {
      "text/plain": [
       "map_to_int (generic function with 2 methods)"
      ]
     },
     "execution_count": 5,
     "metadata": {},
     "output_type": "execute_result"
    }
   ],
   "source": [
    "function map_to_int(arr, T, initial_count=nothing)\n",
    "    # Dynamically map the strings to numbers\n",
    "    unique_list = T[]\n",
    "    for v in arr\n",
    "        if v in unique_list\n",
    "            continue\n",
    "        else\n",
    "            push!(unique_list, v)\n",
    "        end\n",
    "    end\n",
    "    cleaned_list = Array{Int64, 1}(undef, length(arr))\n",
    "    if initial_count == nothing\n",
    "        count = 1\n",
    "    else\n",
    "        # Works since dataset has \"no\" as first and not \"yes\",\n",
    "        # not the best way but is suitable for now\n",
    "        count = initial_count\n",
    "    end\n",
    "    for i in unique_list\n",
    "        for j in 1:length(arr)\n",
    "            if arr[j] == i\n",
    "                cleaned_list[j] = count\n",
    "            end\n",
    "        end\n",
    "        count += 1\n",
    "    end\n",
    "    return cleaned_list\n",
    "\n",
    "end"
   ]
  },
  {
   "cell_type": "code",
   "execution_count": 6,
   "metadata": {},
   "outputs": [
    {
     "data": {
      "text/plain": [
       "41188-element Array{Int64,1}:\n",
       " 0\n",
       " 0\n",
       " 0\n",
       " 0\n",
       " 0\n",
       " 0\n",
       " 0\n",
       " 0\n",
       " 0\n",
       " 0\n",
       " 0\n",
       " 0\n",
       " 0\n",
       " ⋮\n",
       " 0\n",
       " 0\n",
       " 1\n",
       " 0\n",
       " 0\n",
       " 1\n",
       " 0\n",
       " 1\n",
       " 0\n",
       " 0\n",
       " 1\n",
       " 0"
      ]
     },
     "execution_count": 6,
     "metadata": {},
     "output_type": "execute_result"
    }
   ],
   "source": [
    "cleaned_marital = map_to_int(marital_vector, String)\n",
    "cleaned_default = map_to_int(default_vector, String)\n",
    "cleaned_loan = map_to_int(loan_vector, String)\n",
    "cleaned_month = map_to_int(month_vector, String)\n",
    "\n",
    "cleaned_duration = map_to_int(duration_vector, Int64)\n",
    "cleaned_pdays = map_to_int(pdays_vector, Float64) #new\n",
    "cleaned_nr_emp = map_to_int(nr_emp_vector, Float64) #new\n",
    "cleaned_euribor3m = map_to_int(euribor3m_vector, Float64) #new\n",
    "cleaned_conf_idx = map_to_int(conf_idx_vector, Float64) #new\n",
    "cleaned_price_idx = map_to_int(price_idx_vector, Float64) #new\n",
    "\n",
    "\n",
    "cleaned_poutcome = map_to_int(poutcome_vector, String)\n",
    "cleaned_job = map_to_int(job_vector, String)\n",
    "cleaned_education = map_to_int(education_vector, String)\n",
    "\n",
    "cleaned_housing = map_to_int(housing_vector, String)\n",
    "cleaned_contact = map_to_int(contact_vector, String)\n",
    "cleaned_dow = map_to_int(dow_vector, String)\n",
    "# Special case where we want only 1 and 0 \n",
    "y = map_to_int(y_vector, String, 0)"
   ]
  },
  {
   "cell_type": "code",
   "execution_count": 7,
   "metadata": {},
   "outputs": [],
   "source": [
    "# Update the matrix with the numerical mapped equivalents\n",
    "for i in 1:size(m)[1]\n",
    "    for j in 1:size(m)[2]\n",
    "        if j == 3\n",
    "            m[i,j] = cleaned_marital[i]\n",
    "        elseif j == 5\n",
    "            m[i,j] = cleaned_default[i]\n",
    "        elseif j == 7\n",
    "            m[i,j] = cleaned_loan[i]\n",
    "        elseif j == 9\n",
    "            m[i,j] = cleaned_month[i]\n",
    "        elseif j == 11\n",
    "            m[i,j] = cleaned_duration[i]\n",
    "        elseif j == 15\n",
    "            m[i,j] = cleaned_poutcome[i]\n",
    "        elseif j == 2\n",
    "            m[i,j] = cleaned_job[i]\n",
    "        elseif j == 4\n",
    "            m[i,j] = cleaned_education[i]\n",
    "        elseif j == 6\n",
    "            m[i,j] = cleaned_housing[i]\n",
    "        elseif j == 8\n",
    "            m[i,j] = cleaned_contact[i]\n",
    "        elseif j == 10\n",
    "            m[i,j] = cleaned_dow[i]\n",
    "            \n",
    "        elseif j == 13\n",
    "            m[i,j] = cleaned_pdays[i]\n",
    "        elseif j == 20\n",
    "            m[i,j] = cleaned_nr_emp[i]\n",
    "        elseif j == 19\n",
    "            m[i,j] = cleaned_euribor3m[i]\n",
    "        elseif j == 18\n",
    "            m[i,j] = cleaned_conf_idx[i]\n",
    "        elseif j == 17\n",
    "            m[i,j] = cleaned_price_idx[i]\n",
    "        end\n",
    "    end\n",
    "end"
   ]
  },
  {
   "cell_type": "code",
   "execution_count": 8,
   "metadata": {},
   "outputs": [],
   "source": [
    "# Remove y from feature matrix\n",
    "x = Matrix{Float64}(undef, size(m)[1], size(m)[2]-1)\n",
    "\n",
    "for i in 1:size(m)[1]\n",
    "    for j in 1:size(m)[2]-1\n",
    "        # Merge the outcome value as the last index\n",
    "        if j == size(m)[2]-1\n",
    "            x[i,j] = y[i]\n",
    "            continue\n",
    "        end\n",
    "        x[i,j] = m[i,j]\n",
    "    end\n",
    "end"
   ]
  },
  {
   "cell_type": "code",
   "execution_count": 9,
   "metadata": {},
   "outputs": [
    {
     "data": {
      "text/plain": [
       "41188×20 Array{Float64,2}:\n",
       " 1.0        0.0178571   0.0178571   …  0.0178571  0.0178571  0.0       \n",
       " 1.0        0.0350877   0.0175439      0.0175439  0.0175439  0.0       \n",
       " 1.0        0.0540541   0.027027       0.027027   0.027027   0.0       \n",
       " 1.0        0.075       0.025          0.025      0.025      0.0       \n",
       " 1.0        0.0357143   0.0178571      0.0178571  0.0178571  0.0       \n",
       " 1.0        0.0444444   0.0222222   …  0.0222222  0.0222222  0.0       \n",
       " 1.0        0.0508475   0.0169492      0.0169492  0.0169492  0.0       \n",
       " 1.0        0.097561    0.0243902      0.0243902  0.0243902  0.0       \n",
       " 1.0        0.208333    0.0833333      0.0416667  0.0416667  0.0       \n",
       " 1.0        0.08        0.08           0.04       0.04       0.0       \n",
       " 1.0        0.097561    0.0243902   …  0.0243902  0.0243902  0.0       \n",
       " 1.0        0.08        0.08           0.04       0.04       0.0       \n",
       " 1.0        0.137931    0.0689655      0.0344828  0.0344828  0.0       \n",
       " ⋮                                  ⋱                                  \n",
       " 0.0610842  0.00328074  0.00640525     0.0423371  0.493829   0.00171848\n",
       " 0.183803   0.0224612   0.00664347     0.0857324  1.0        0.00347991\n",
       " 0.19962    0.0224612   0.00664347     0.0857324  1.0        0.00664347\n",
       " 0.205298   0.0223904   0.0129297      0.085462   1.0        0.00346894\n",
       " 0.116998   0.0129297   0.00662252  …  0.085462   1.0        0.00346894\n",
       " 0.0775809  0.00834861  0.00427611     0.0551822  0.645693   0.00427611\n",
       " 0.0949227  0.0286976   0.0097761      0.085462   1.0        0.00346894\n",
       " 0.117414   0.0112502   0.00332752     0.0429409  0.502456   0.00332752\n",
       " 0.138083   0.0149516   0.00615655     0.0794488  0.929639   0.00322486\n",
       " 0.180069   0.0223904   0.00662252  …  0.085462   1.0        0.00346894\n",
       " 0.142226   0.0192368   0.00662252     0.085462   1.0        0.00662252\n",
       " 0.188173   0.01779     0.00526184     0.0679028  0.794538   0.0027562 "
      ]
     },
     "execution_count": 9,
     "metadata": {},
     "output_type": "execute_result"
    }
   ],
   "source": [
    "# Standardize x ZScoreTransform  UnitRangeTransform\n",
    "# m_fit = fit(ZScoreTransform, x, dims=2)#, center=false, scale=true)\n",
    "m_fit = fit(UnitRangeTransform, x, dims=2)\n",
    "x = StatsBase.transform(m_fit, x)"
   ]
  },
  {
   "cell_type": "code",
   "execution_count": 10,
   "metadata": {},
   "outputs": [
    {
     "data": {
      "text/plain": [
       "8239×1 Array{Int64,2}:\n",
       " 0\n",
       " 0\n",
       " 0\n",
       " 0\n",
       " 0\n",
       " 0\n",
       " 0\n",
       " 0\n",
       " 0\n",
       " 0\n",
       " 0\n",
       " 0\n",
       " 0\n",
       " ⋮\n",
       " 0\n",
       " 0\n",
       " 1\n",
       " 0\n",
       " 0\n",
       " 1\n",
       " 0\n",
       " 1\n",
       " 0\n",
       " 0\n",
       " 1\n",
       " 0"
      ]
     },
     "execution_count": 10,
     "metadata": {},
     "output_type": "execute_result"
    }
   ],
   "source": [
    "# Split into testing and training\n",
    "TRAIN_PERCENT = 0.8\n",
    "# Calculate number of rows to use as train sample\n",
    "training_row_length = trunc(Int64, size(x)[1] * TRAIN_PERCENT)\n",
    "training_x = x[1:training_row_length-1, :]\n",
    "testing_x = x[training_row_length: size(x)[1], :]\n",
    "\n",
    "training_y = y[1:training_row_length-1, :]\n",
    "testing_y = y[training_row_length: size(y)[1], :]"
   ]
  },
  {
   "cell_type": "code",
   "execution_count": 11,
   "metadata": {},
   "outputs": [
    {
     "data": {
      "text/plain": [
       "hypothesis (generic function with 1 method)"
      ]
     },
     "execution_count": 11,
     "metadata": {},
     "output_type": "execute_result"
    }
   ],
   "source": [
    "function hypothesis(v_theta, x)\n",
    "    z = (transpose(v_theta) * x)\n",
    "    # Sigmoid\n",
    "    return 1/(1+exp(-z))\n",
    "end"
   ]
  },
  {
   "cell_type": "code",
   "execution_count": 12,
   "metadata": {},
   "outputs": [
    {
     "data": {
      "text/plain": [
       "0.6931471805595845"
      ]
     },
     "execution_count": 12,
     "metadata": {},
     "output_type": "execute_result"
    }
   ],
   "source": [
    "function cost_function(X, Y, theta, lambda)\n",
    "    m = size(X)[1]\n",
    "    cross_result = 0 # result of cross-entropy function\n",
    "    for i in 1:m\n",
    "        y = Y[i]\n",
    "        x = X[i, :]\n",
    "        cross_result += y * log(hypothesis(theta, x))\n",
    "        cross_result += (1-y)*log(1-hypothesis(theta, x))\n",
    "    end\n",
    "    # regularize\n",
    "    cross_result += (lambda/2*m)*sum(theta[2: size(theta)[1]].^2)\n",
    "    return -(1/m)*cross_result\n",
    "end\n",
    "cost_function(training_x, training_y, zeros(size(training_x)[2]), 0.3)"
   ]
  },
  {
   "cell_type": "code",
   "execution_count": 13,
   "metadata": {},
   "outputs": [
    {
     "data": {
      "text/plain": [
       "20-element Array{Float64,1}:\n",
       " -5.632837036061274e-9  \n",
       " -9.966283003196788e-10 \n",
       " -5.485190922933737e-10 \n",
       " -5.54098708406278e-10  \n",
       " -4.0210888158706496e-10\n",
       " -4.0211660743873837e-10\n",
       " -4.0416181415686855e-10\n",
       " -5.485193582210918e-10 \n",
       " -4.021088809236685e-10 \n",
       " -4.0210888092339996e-10\n",
       " -3.85694741495942e-7   \n",
       " -5.457397279206611e-10 \n",
       " -4.021088421498188e-10 \n",
       " -2.571757286513164e-10 \n",
       " -4.021088421494399e-10 \n",
       "  0.0                   \n",
       " -1.7737462045259853e-9 \n",
       " -1.7737462045028429e-9 \n",
       " -2.601680472718591e-8  \n",
       " -2.5717572821951916e-10"
      ]
     },
     "execution_count": 13,
     "metadata": {},
     "output_type": "execute_result"
    }
   ],
   "source": [
    "function update_theta(X, Y, theta, lr, lambda)\n",
    "    m = size(X)[1]\n",
    "    for j in 1:size(theta)[1]\n",
    "        if j == 1\n",
    "            temp1 = 0 # summation result when theta index 0\n",
    "            for i in 1:m\n",
    "                x = X[i, :]\n",
    "                y = Y[i:i, :][1]\n",
    "                temp1 += hypothesis(theta, x) - y\n",
    "                temp1 *= x[1]\n",
    "            end\n",
    "            theta[1] = theta[1] - lr*(1/m)*temp1\n",
    "        else\n",
    "            temp2 = 0 # summation result when theta index not 0\n",
    "            for i in 1:m\n",
    "                x = X[i, :]\n",
    "                y = Y[i:i, :][1]\n",
    "                temp2 += hypothesis(theta, x) - y\n",
    "                temp2 *= x[j]\n",
    "                temp2 -= (lambda/m) * theta[j]\n",
    "            end\n",
    "            theta[j] = theta[j] - lr*(1/m)*temp2 # old - step size\n",
    "        end\n",
    "    end\n",
    "    return theta\n",
    "end\n",
    "w=0.002\n",
    "l=0.3\n",
    "hey = update_theta(training_x, training_y,zeros(size(training_x)[2]), w, l)\n",
    "update_theta(training_x, training_y,hey, w, l)"
   ]
  },
  {
   "cell_type": "code",
   "execution_count": 14,
   "metadata": {},
   "outputs": [
    {
     "data": {
      "text/plain": [
       "train (generic function with 1 method)"
      ]
     },
     "execution_count": 14,
     "metadata": {},
     "output_type": "execute_result"
    }
   ],
   "source": [
    "function train(X, Y, theta, lr, lambda, n_iters)\n",
    "    cost_history = zeros(0)\n",
    "    for i in 1:n_iters\n",
    "        cost = cost_function(X, Y, theta, lambda)\n",
    "        theta = update_theta(X, Y, theta, lr, lambda)\n",
    "        # Logging purposes\n",
    "#         append!(cost_history, cost)\n",
    "        if i % 100 == 0\n",
    "            println(\"Cost: $cost Iteration: $i\")\n",
    "        end\n",
    "    end\n",
    "    return theta\n",
    "end\n",
    "# trained_theta = train(training_x, training_y, zeros(size(training_x)[2]), 0.001, 0.3, 10)"
   ]
  },
  {
   "cell_type": "code",
   "execution_count": 15,
   "metadata": {},
   "outputs": [
    {
     "name": "stdout",
     "output_type": "stream",
     "text": [
      "training started\n",
      "Cost: 0.6931391716784264 Iteration: 100\n",
      "\n",
      "Accuracy: 69.17101589998786\n",
      "Precision: 0.0\n",
      "Recall: 0\n",
      "\n",
      "Actual: 0 => Predicted: 5699\n",
      "Actual: 1 => Predicted: 0\n"
     ]
    }
   ],
   "source": [
    "function test(test_x, test_y, theta)\n",
    "    N = size(test_x)[1]\n",
    "    accuracy_raw = 0\n",
    "    zero_count = 0\n",
    "    one_count = 0\n",
    "    total_one = 0\n",
    "    for i in 1:N\n",
    "        y_pred = hypothesis(theta, test_x[i, :])\n",
    "        actual = test_y[i]\n",
    "        if actual == 0 && y_pred < 0.5\n",
    "            accuracy_raw += 1\n",
    "            zero_count += 1\n",
    "        elseif actual == 1 && y_pred >= 0.5\n",
    "            accuracy_raw += 1\n",
    "            one_count += 1\n",
    "        end\n",
    "        if actual == 1\n",
    "            total_one += 1\n",
    "        end\n",
    "    end\n",
    "    accuracy = accuracy_raw/N * 100\n",
    "    precision = one_count/total_one*100\n",
    "    println()\n",
    "    println(\"Accuracy: $accuracy\")\n",
    "    println(\"Precision: $precision\")\n",
    "    println(\"Recall: $one_count\")\n",
    "    println()\n",
    "    println(\"Actual: 0 => Predicted: $zero_count\")\n",
    "    println(\"Actual: 1 => Predicted: $one_count\")\n",
    "    \n",
    "end\n",
    "println(\"training started\")\n",
    "trained_theta = train(training_x, training_y, zeros(size(training_x)[2]), 0.002, 0.3, 100)\n",
    "\n",
    "test(testing_x, testing_y, trained_theta)"
   ]
  }
 ],
 "metadata": {
  "kernelspec": {
   "display_name": "Julia 1.0.5",
   "language": "julia",
   "name": "julia-1.0"
  },
  "language_info": {
   "file_extension": ".jl",
   "mimetype": "application/julia",
   "name": "julia",
   "version": "1.0.5"
  }
 },
 "nbformat": 4,
 "nbformat_minor": 2
}
