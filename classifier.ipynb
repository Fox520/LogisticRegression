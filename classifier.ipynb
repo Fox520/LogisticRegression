{
 "cells": [
  {
   "cell_type": "code",
   "execution_count": 43,
   "metadata": {},
   "outputs": [],
   "source": [
    "using CSV\n",
    "using DataFrames\n",
    "using StatsBase  # For standardization"
   ]
  },
  {
   "cell_type": "code",
   "execution_count": 2,
   "metadata": {
    "collapsed": true
   },
   "outputs": [
    {
     "data": {
      "text/html": [
       "<table class=\"data-frame\"><thead><tr><th></th><th>age</th><th>job</th><th>marital</th><th>education</th><th>default</th><th>housing</th><th>loan</th></tr><tr><th></th><th>Int64</th><th>String</th><th>String</th><th>String</th><th>String</th><th>String</th><th>String</th></tr></thead><tbody><p>41,188 rows × 21 columns (omitted printing of 14 columns)</p><tr><th>1</th><td>56</td><td>housemaid</td><td>married</td><td>basic.4y</td><td>no</td><td>no</td><td>no</td></tr><tr><th>2</th><td>57</td><td>services</td><td>married</td><td>high.school</td><td>unknown</td><td>no</td><td>no</td></tr><tr><th>3</th><td>37</td><td>services</td><td>married</td><td>high.school</td><td>no</td><td>yes</td><td>no</td></tr><tr><th>4</th><td>40</td><td>admin.</td><td>married</td><td>basic.6y</td><td>no</td><td>no</td><td>no</td></tr><tr><th>5</th><td>56</td><td>services</td><td>married</td><td>high.school</td><td>no</td><td>no</td><td>yes</td></tr><tr><th>6</th><td>45</td><td>services</td><td>married</td><td>basic.9y</td><td>unknown</td><td>no</td><td>no</td></tr><tr><th>7</th><td>59</td><td>admin.</td><td>married</td><td>professional.course</td><td>no</td><td>no</td><td>no</td></tr><tr><th>8</th><td>41</td><td>blue-collar</td><td>married</td><td>unknown</td><td>unknown</td><td>no</td><td>no</td></tr><tr><th>9</th><td>24</td><td>technician</td><td>single</td><td>professional.course</td><td>no</td><td>yes</td><td>no</td></tr><tr><th>10</th><td>25</td><td>services</td><td>single</td><td>high.school</td><td>no</td><td>yes</td><td>no</td></tr><tr><th>11</th><td>41</td><td>blue-collar</td><td>married</td><td>unknown</td><td>unknown</td><td>no</td><td>no</td></tr><tr><th>12</th><td>25</td><td>services</td><td>single</td><td>high.school</td><td>no</td><td>yes</td><td>no</td></tr><tr><th>13</th><td>29</td><td>blue-collar</td><td>single</td><td>high.school</td><td>no</td><td>no</td><td>yes</td></tr><tr><th>14</th><td>57</td><td>housemaid</td><td>divorced</td><td>basic.4y</td><td>no</td><td>yes</td><td>no</td></tr><tr><th>15</th><td>35</td><td>blue-collar</td><td>married</td><td>basic.6y</td><td>no</td><td>yes</td><td>no</td></tr><tr><th>16</th><td>54</td><td>retired</td><td>married</td><td>basic.9y</td><td>unknown</td><td>yes</td><td>yes</td></tr><tr><th>17</th><td>35</td><td>blue-collar</td><td>married</td><td>basic.6y</td><td>no</td><td>yes</td><td>no</td></tr><tr><th>18</th><td>46</td><td>blue-collar</td><td>married</td><td>basic.6y</td><td>unknown</td><td>yes</td><td>yes</td></tr><tr><th>19</th><td>50</td><td>blue-collar</td><td>married</td><td>basic.9y</td><td>no</td><td>yes</td><td>yes</td></tr><tr><th>20</th><td>39</td><td>management</td><td>single</td><td>basic.9y</td><td>unknown</td><td>no</td><td>no</td></tr><tr><th>21</th><td>30</td><td>unemployed</td><td>married</td><td>high.school</td><td>no</td><td>no</td><td>no</td></tr><tr><th>22</th><td>55</td><td>blue-collar</td><td>married</td><td>basic.4y</td><td>unknown</td><td>yes</td><td>no</td></tr><tr><th>23</th><td>55</td><td>retired</td><td>single</td><td>high.school</td><td>no</td><td>yes</td><td>no</td></tr><tr><th>24</th><td>41</td><td>technician</td><td>single</td><td>high.school</td><td>no</td><td>yes</td><td>no</td></tr><tr><th>25</th><td>37</td><td>admin.</td><td>married</td><td>high.school</td><td>no</td><td>yes</td><td>no</td></tr><tr><th>26</th><td>35</td><td>technician</td><td>married</td><td>university.degree</td><td>no</td><td>no</td><td>yes</td></tr><tr><th>27</th><td>59</td><td>technician</td><td>married</td><td>unknown</td><td>no</td><td>yes</td><td>no</td></tr><tr><th>28</th><td>39</td><td>self-employed</td><td>married</td><td>basic.9y</td><td>unknown</td><td>no</td><td>no</td></tr><tr><th>29</th><td>54</td><td>technician</td><td>single</td><td>university.degree</td><td>unknown</td><td>no</td><td>no</td></tr><tr><th>30</th><td>55</td><td>unknown</td><td>married</td><td>university.degree</td><td>unknown</td><td>unknown</td><td>unknown</td></tr><tr><th>&vellip;</th><td>&vellip;</td><td>&vellip;</td><td>&vellip;</td><td>&vellip;</td><td>&vellip;</td><td>&vellip;</td><td>&vellip;</td></tr></tbody></table>"
      ],
      "text/latex": [
       "\\begin{tabular}{r|cccccccc}\n",
       "\t& age & job & marital & education & default & housing & loan & \\\\\n",
       "\t\\hline\n",
       "\t& Int64 & String & String & String & String & String & String & \\\\\n",
       "\t\\hline\n",
       "\t1 & 56 & housemaid & married & basic.4y & no & no & no & $\\dots$ \\\\\n",
       "\t2 & 57 & services & married & high.school & unknown & no & no & $\\dots$ \\\\\n",
       "\t3 & 37 & services & married & high.school & no & yes & no & $\\dots$ \\\\\n",
       "\t4 & 40 & admin. & married & basic.6y & no & no & no & $\\dots$ \\\\\n",
       "\t5 & 56 & services & married & high.school & no & no & yes & $\\dots$ \\\\\n",
       "\t6 & 45 & services & married & basic.9y & unknown & no & no & $\\dots$ \\\\\n",
       "\t7 & 59 & admin. & married & professional.course & no & no & no & $\\dots$ \\\\\n",
       "\t8 & 41 & blue-collar & married & unknown & unknown & no & no & $\\dots$ \\\\\n",
       "\t9 & 24 & technician & single & professional.course & no & yes & no & $\\dots$ \\\\\n",
       "\t10 & 25 & services & single & high.school & no & yes & no & $\\dots$ \\\\\n",
       "\t11 & 41 & blue-collar & married & unknown & unknown & no & no & $\\dots$ \\\\\n",
       "\t12 & 25 & services & single & high.school & no & yes & no & $\\dots$ \\\\\n",
       "\t13 & 29 & blue-collar & single & high.school & no & no & yes & $\\dots$ \\\\\n",
       "\t14 & 57 & housemaid & divorced & basic.4y & no & yes & no & $\\dots$ \\\\\n",
       "\t15 & 35 & blue-collar & married & basic.6y & no & yes & no & $\\dots$ \\\\\n",
       "\t16 & 54 & retired & married & basic.9y & unknown & yes & yes & $\\dots$ \\\\\n",
       "\t17 & 35 & blue-collar & married & basic.6y & no & yes & no & $\\dots$ \\\\\n",
       "\t18 & 46 & blue-collar & married & basic.6y & unknown & yes & yes & $\\dots$ \\\\\n",
       "\t19 & 50 & blue-collar & married & basic.9y & no & yes & yes & $\\dots$ \\\\\n",
       "\t20 & 39 & management & single & basic.9y & unknown & no & no & $\\dots$ \\\\\n",
       "\t21 & 30 & unemployed & married & high.school & no & no & no & $\\dots$ \\\\\n",
       "\t22 & 55 & blue-collar & married & basic.4y & unknown & yes & no & $\\dots$ \\\\\n",
       "\t23 & 55 & retired & single & high.school & no & yes & no & $\\dots$ \\\\\n",
       "\t24 & 41 & technician & single & high.school & no & yes & no & $\\dots$ \\\\\n",
       "\t25 & 37 & admin. & married & high.school & no & yes & no & $\\dots$ \\\\\n",
       "\t26 & 35 & technician & married & university.degree & no & no & yes & $\\dots$ \\\\\n",
       "\t27 & 59 & technician & married & unknown & no & yes & no & $\\dots$ \\\\\n",
       "\t28 & 39 & self-employed & married & basic.9y & unknown & no & no & $\\dots$ \\\\\n",
       "\t29 & 54 & technician & single & university.degree & unknown & no & no & $\\dots$ \\\\\n",
       "\t30 & 55 & unknown & married & university.degree & unknown & unknown & unknown & $\\dots$ \\\\\n",
       "\t$\\dots$ & $\\dots$ & $\\dots$ & $\\dots$ & $\\dots$ & $\\dots$ & $\\dots$ & $\\dots$ &  \\\\\n",
       "\\end{tabular}\n"
      ],
      "text/plain": [
       "41188×21 DataFrame. Omitted printing of 16 columns\n",
       "│ Row   │ age   │ job         │ marital  │ education           │ default │\n",
       "│       │ \u001b[90mInt64\u001b[39m │ \u001b[90mString\u001b[39m      │ \u001b[90mString\u001b[39m   │ \u001b[90mString\u001b[39m              │ \u001b[90mString\u001b[39m  │\n",
       "├───────┼───────┼─────────────┼──────────┼─────────────────────┼─────────┤\n",
       "│ 1     │ 56    │ housemaid   │ married  │ basic.4y            │ no      │\n",
       "│ 2     │ 57    │ services    │ married  │ high.school         │ unknown │\n",
       "│ 3     │ 37    │ services    │ married  │ high.school         │ no      │\n",
       "│ 4     │ 40    │ admin.      │ married  │ basic.6y            │ no      │\n",
       "│ 5     │ 56    │ services    │ married  │ high.school         │ no      │\n",
       "│ 6     │ 45    │ services    │ married  │ basic.9y            │ unknown │\n",
       "│ 7     │ 59    │ admin.      │ married  │ professional.course │ no      │\n",
       "│ 8     │ 41    │ blue-collar │ married  │ unknown             │ unknown │\n",
       "│ 9     │ 24    │ technician  │ single   │ professional.course │ no      │\n",
       "│ 10    │ 25    │ services    │ single   │ high.school         │ no      │\n",
       "⋮\n",
       "│ 41178 │ 57    │ retired     │ married  │ professional.course │ no      │\n",
       "│ 41179 │ 62    │ retired     │ married  │ university.degree   │ no      │\n",
       "│ 41180 │ 64    │ retired     │ divorced │ professional.course │ no      │\n",
       "│ 41181 │ 36    │ admin.      │ married  │ university.degree   │ no      │\n",
       "│ 41182 │ 37    │ admin.      │ married  │ university.degree   │ no      │\n",
       "│ 41183 │ 29    │ unemployed  │ single   │ basic.4y            │ no      │\n",
       "│ 41184 │ 73    │ retired     │ married  │ professional.course │ no      │\n",
       "│ 41185 │ 46    │ blue-collar │ married  │ professional.course │ no      │\n",
       "│ 41186 │ 56    │ retired     │ married  │ university.degree   │ no      │\n",
       "│ 41187 │ 44    │ technician  │ married  │ professional.course │ no      │\n",
       "│ 41188 │ 74    │ retired     │ married  │ professional.course │ no      │"
      ]
     },
     "execution_count": 2,
     "metadata": {},
     "output_type": "execute_result"
    }
   ],
   "source": [
    "# Load the dataset\n",
    "file_path = \"bank-additional-full.csv\"\n",
    "df = CSV.read(file_path)"
   ]
  },
  {
   "cell_type": "code",
   "execution_count": 33,
   "metadata": {
    "collapsed": true
   },
   "outputs": [
    {
     "data": {
      "text/plain": [
       "41188-element Array{String,1}:\n",
       " #undef\n",
       " #undef\n",
       " #undef\n",
       " #undef\n",
       " #undef\n",
       " #undef\n",
       " #undef\n",
       " #undef\n",
       " #undef\n",
       " #undef\n",
       " #undef\n",
       " #undef\n",
       " #undef\n",
       "   ⋮   \n",
       " #undef\n",
       " #undef\n",
       " #undef\n",
       " #undef\n",
       " #undef\n",
       " #undef\n",
       " #undef\n",
       " #undef\n",
       " #undef\n",
       " #undef\n",
       " #undef\n",
       " #undef"
      ]
     },
     "execution_count": 33,
     "metadata": {},
     "output_type": "execute_result"
    }
   ],
   "source": [
    "# Convert dataframe to matrix\n",
    "m = convert(Matrix, df)\n",
    "# Categorical feature vectors which need mapping to numbers\n",
    "marital_vector = Array{String,1}(undef, size(m)[1])\n",
    "default_vector = Array{String,1}(undef, size(m)[1])\n",
    "loan_vector = Array{String,1}(undef, size(m)[1])\n",
    "month_vector = Array{String,1}(undef, size(m)[1])\n",
    "duration_vector = Array{Int64,1}(undef, size(m)[1])\n",
    "poutcome_vector = Array{String,1}(undef, size(m)[1])\n",
    "job_vector = Array{String,1}(undef, size(m)[1])\n",
    "education_vector = Array{String,1}(undef, size(m)[1])\n",
    "housing_vector = Array{String,1}(undef, size(m)[1])\n",
    "contact_vector = Array{String,1}(undef, size(m)[1])\n",
    "dow_vector = Array{String,1}(undef, size(m)[1])\n",
    "y_vector = Array{String,1}(undef, size(m)[1])"
   ]
  },
  {
   "cell_type": "code",
   "execution_count": 34,
   "metadata": {},
   "outputs": [],
   "source": [
    "# Map categorical features to numbers\n",
    "for i in 1:size(m)[1]\n",
    "    for j in 1:size(m)[2]\n",
    "        # Check if columns match\n",
    "        if j == 3\n",
    "            marital_vector[i] = m[i,j]\n",
    "        elseif j == 5\n",
    "            default_vector[i] = m[i,j]\n",
    "        elseif j == 7\n",
    "            loan_vector[i] = m[i,j]\n",
    "        elseif j == 9\n",
    "            month_vector[i] = m[i,j]\n",
    "        elseif j == 11\n",
    "            duration_vector[i] = m[i,j]\n",
    "        elseif j == 15\n",
    "            poutcome_vector[i] = m[i,j]\n",
    "        elseif j == 2\n",
    "            job_vector[i] = m[i,j]\n",
    "        elseif j == 4\n",
    "            education_vector[i] = m[i,j]\n",
    "        elseif j == 6\n",
    "            housing_vector[i] = m[i,j]\n",
    "        elseif j == 8\n",
    "            contact_vector[i] = m[i,j]\n",
    "        elseif j == 10\n",
    "            dow_vector[i] = m[i,j]\n",
    "        elseif j == 21\n",
    "            y_vector[i] = m[i,j]\n",
    "        end\n",
    "    end\n",
    "end"
   ]
  },
  {
   "cell_type": "code",
   "execution_count": 30,
   "metadata": {},
   "outputs": [
    {
     "data": {
      "text/plain": [
       "map_to_int (generic function with 3 methods)"
      ]
     },
     "execution_count": 30,
     "metadata": {},
     "output_type": "execute_result"
    }
   ],
   "source": [
    "function map_to_int(arr, T, initial_count=nothing)\n",
    "    # Dynamically map the strings to numbers\n",
    "    unique_list = T[]\n",
    "    for v in arr\n",
    "        if v in unique_list\n",
    "            continue\n",
    "        else\n",
    "            push!(unique_list, v)\n",
    "        end\n",
    "    end\n",
    "    cleaned_list = Array{Int64, 1}(undef, length(arr))\n",
    "    if initial_count == nothing\n",
    "        count = 1\n",
    "    else\n",
    "        count = initial_count\n",
    "    end\n",
    "    for i in unique_list\n",
    "        for j in 1:length(arr)\n",
    "            if arr[j] == i\n",
    "                cleaned_list[j] = count\n",
    "            end\n",
    "        end\n",
    "        count += 1\n",
    "    end\n",
    "    return cleaned_list\n",
    "\n",
    "end"
   ]
  },
  {
   "cell_type": "code",
   "execution_count": 38,
   "metadata": {
    "collapsed": true
   },
   "outputs": [
    {
     "data": {
      "text/plain": [
       "41188-element Array{Int64,1}:\n",
       " 0\n",
       " 0\n",
       " 0\n",
       " 0\n",
       " 0\n",
       " 0\n",
       " 0\n",
       " 0\n",
       " 0\n",
       " 0\n",
       " 0\n",
       " 0\n",
       " 0\n",
       " ⋮\n",
       " 0\n",
       " 0\n",
       " 1\n",
       " 0\n",
       " 0\n",
       " 1\n",
       " 0\n",
       " 1\n",
       " 0\n",
       " 0\n",
       " 1\n",
       " 0"
      ]
     },
     "execution_count": 38,
     "metadata": {},
     "output_type": "execute_result"
    }
   ],
   "source": [
    "cleaned_marital = map_to_int(marital_vector, String)\n",
    "cleaned_default = map_to_int(default_vector, String)\n",
    "cleaned_loan = map_to_int(loan_vector, String)\n",
    "cleaned_month = map_to_int(month_vector, String)\n",
    "\n",
    "cleaned_duration = map_to_int(duration_vector, Int64)\n",
    "cleaned_poutcome = map_to_int(poutcome_vector, String)\n",
    "cleaned_job = map_to_int(job_vector, String)\n",
    "cleaned_education = map_to_int(education_vector, String)\n",
    "\n",
    "cleaned_housing = map_to_int(housing_vector, String)\n",
    "cleaned_contact = map_to_int(contact_vector, String)\n",
    "cleaned_dow = map_to_int(dow_vector, String)\n",
    "# Special case where we want only 1 and 0 \n",
    "y = map_to_int(y_vector, String, 0)"
   ]
  },
  {
   "cell_type": "code",
   "execution_count": 39,
   "metadata": {},
   "outputs": [],
   "source": [
    "# Update the matrix with the numerical mapped equivalents\n",
    "for i in 1:size(m)[1]\n",
    "    for j in 1:size(m)[2]\n",
    "        if j == 3\n",
    "            m[i,j] = cleaned_marital[i]\n",
    "        elseif j == 5\n",
    "            m[i,j] = cleaned_default[i]\n",
    "        elseif j == 7\n",
    "            m[i,j] = cleaned_loan[i]\n",
    "        elseif j == 9\n",
    "            m[i,j] = cleaned_month[i]\n",
    "        elseif j == 11\n",
    "            m[i,j] = cleaned_duration[i]\n",
    "        elseif j == 15\n",
    "            m[i,j] = cleaned_poutcome[i]\n",
    "        elseif j == 2\n",
    "            m[i,j] = cleaned_job[i]\n",
    "        elseif j == 4\n",
    "            m[i,j] = cleaned_education[i]\n",
    "        elseif j == 6\n",
    "            m[i,j] = cleaned_housing[i]\n",
    "        elseif j == 8\n",
    "            m[i,j] = cleaned_contact[i]\n",
    "        elseif j == 10\n",
    "            m[i,j] = cleaned_dow[i]\n",
    "        end\n",
    "    end\n",
    "end"
   ]
  },
  {
   "cell_type": "code",
   "execution_count": 41,
   "metadata": {},
   "outputs": [],
   "source": [
    "# Remove y from feature matrix\n",
    "x = Matrix{Float64}(undef, size(m)[1], size(m)[2]-1)\n",
    "\n",
    "for i in 1:size(m)[1]\n",
    "    for j in 1:size(m)[2]-1\n",
    "        # Merge the outcome value as the last index\n",
    "        if j == size(m)[2]-1\n",
    "            x[i,j] = y[i]\n",
    "            continue\n",
    "        end\n",
    "        x[i,j] = m[i,j]\n",
    "    end\n",
    "end"
   ]
  },
  {
   "cell_type": "code",
   "execution_count": 49,
   "metadata": {
    "collapsed": true
   },
   "outputs": [
    {
     "data": {
      "text/plain": [
       "41188×21 Array{Float64,2}:\n",
       " -0.00236248   …  1.0\n",
       "  0.000996409     1.0\n",
       " -0.0843215       1.0\n",
       " -0.0720173       1.0\n",
       " -0.00393143      1.0\n",
       " -0.0514244    …  1.0\n",
       "  0.00771871      1.0\n",
       " -0.069813        1.0\n",
       " -0.142595        1.0\n",
       " -0.137184        1.0\n",
       " -0.0704958    …  1.0\n",
       " -0.137645        1.0\n",
       " -0.121329        1.0\n",
       "  ⋮            ⋱  ⋮  \n",
       " -0.190686        1.0\n",
       " -0.0419678       1.0\n",
       "  0.598677        1.0\n",
       "  0.0300157       1.0\n",
       " -0.14038      …  1.0\n",
       " -0.177053        1.0\n",
       "  0.113159        1.0\n",
       " -0.0618731       1.0\n",
       " -0.115789        1.0\n",
       " -0.0455302    …  1.0\n",
       " -0.11191         1.0\n",
       " -0.0148415       1.0"
      ]
     },
     "execution_count": 49,
     "metadata": {},
     "output_type": "execute_result"
    }
   ],
   "source": [
    "# Concatenate a vector of 1 to feature matrix to represent bias\n",
    "x = hcat(x, ones(Int64, size(x)[1]))"
   ]
  },
  {
   "cell_type": "code",
   "execution_count": 50,
   "metadata": {},
   "outputs": [
    {
     "data": {
      "text/plain": [
       "41188×21 Array{Float64,2}:\n",
       " -0.0500411  …  0.953517\n",
       " -0.0466782     0.953517\n",
       " -0.132098      0.953517\n",
       " -0.119779      0.953517\n",
       " -0.051612      0.953517\n",
       " -0.0991616  …  0.953517\n",
       " -0.0399479     0.953517\n",
       " -0.117572      0.953517\n",
       " -0.19044       0.953517\n",
       " -0.185024      0.953517\n",
       " -0.118256   …  0.953517\n",
       " -0.185485      0.953517\n",
       " -0.169149      0.953517\n",
       "  ⋮          ⋱  ⋮       \n",
       " -0.23859       0.953517\n",
       " -0.0896937     0.953517\n",
       "  0.551715      0.953517\n",
       " -0.0176244     0.953517\n",
       " -0.188223   …  0.953517\n",
       " -0.22494       0.953517\n",
       "  0.0656183     0.953517\n",
       " -0.109623      0.953517\n",
       " -0.163603      0.953517\n",
       " -0.0932604  …  0.953517\n",
       " -0.159719      0.953517\n",
       " -0.0625351     0.953517"
      ]
     },
     "execution_count": 50,
     "metadata": {},
     "output_type": "execute_result"
    }
   ],
   "source": [
    "# Standardize x\n",
    "m_fit = fit(ZScoreTransform, x, dims=2)\n",
    "x = StatsBase.transform(m_fit, x)"
   ]
  },
  {
   "cell_type": "code",
   "execution_count": 51,
   "metadata": {
    "collapsed": true
   },
   "outputs": [
    {
     "data": {
      "text/plain": [
       "8239×1 Array{Int64,2}:\n",
       " 0\n",
       " 0\n",
       " 0\n",
       " 0\n",
       " 0\n",
       " 0\n",
       " 0\n",
       " 0\n",
       " 0\n",
       " 0\n",
       " 0\n",
       " 0\n",
       " 0\n",
       " ⋮\n",
       " 0\n",
       " 0\n",
       " 1\n",
       " 0\n",
       " 0\n",
       " 1\n",
       " 0\n",
       " 1\n",
       " 0\n",
       " 0\n",
       " 1\n",
       " 0"
      ]
     },
     "execution_count": 51,
     "metadata": {},
     "output_type": "execute_result"
    }
   ],
   "source": [
    "# Split into testing and training\n",
    "TRAIN_PERCENT = 0.8\n",
    "# Calculate number of rows to use as train sample\n",
    "training_row_length = trunc(Int64, size(x)[1] * TRAIN_PERCENT)\n",
    "training_x = x[1:training_row_length-1, :]\n",
    "testing_x = x[training_row_length: size(x)[1], :]\n",
    "\n",
    "training_y = y[1:training_row_length-1, :]\n",
    "testing_y = y[training_row_length: size(y)[1], :]"
   ]
  },
  {
   "cell_type": "code",
   "execution_count": 53,
   "metadata": {},
   "outputs": [
    {
     "data": {
      "text/plain": [
       "hypothesis (generic function with 1 method)"
      ]
     },
     "execution_count": 53,
     "metadata": {},
     "output_type": "execute_result"
    }
   ],
   "source": [
    "function hypothesis(v_theta, x)\n",
    "    z = transpose(v_theta) * x\n",
    "    # Sigmoid\n",
    "    return 1/(1+exp(-z))\n",
    "end"
   ]
  },
  {
   "cell_type": "code",
   "execution_count": null,
   "metadata": {},
   "outputs": [],
   "source": []
  }
 ],
 "metadata": {
  "kernelspec": {
   "display_name": "Julia 1.0.5",
   "language": "julia",
   "name": "julia-1.0"
  },
  "language_info": {
   "file_extension": ".jl",
   "mimetype": "application/julia",
   "name": "julia",
   "version": "1.0.5"
  }
 },
 "nbformat": 4,
 "nbformat_minor": 2
}
