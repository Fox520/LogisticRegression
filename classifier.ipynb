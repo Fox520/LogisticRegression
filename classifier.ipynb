{
 "cells": [
  {
   "cell_type": "code",
   "execution_count": 1,
   "metadata": {},
   "outputs": [],
   "source": [
    "using CSV\n",
    "using DataFrames\n",
    "using StatsBase  # For standardization"
   ]
  },
  {
   "cell_type": "code",
   "execution_count": 2,
   "metadata": {
    "scrolled": true
   },
   "outputs": [
    {
     "data": {
      "text/html": [
       "<table class=\"data-frame\"><thead><tr><th></th><th>age</th><th>job</th><th>marital</th><th>education</th><th>default</th><th>housing</th><th>loan</th></tr><tr><th></th><th>Int64</th><th>String</th><th>String</th><th>String</th><th>String</th><th>String</th><th>String</th></tr></thead><tbody><p>41,188 rows × 21 columns (omitted printing of 14 columns)</p><tr><th>1</th><td>56</td><td>housemaid</td><td>married</td><td>basic.4y</td><td>no</td><td>no</td><td>no</td></tr><tr><th>2</th><td>57</td><td>services</td><td>married</td><td>high.school</td><td>unknown</td><td>no</td><td>no</td></tr><tr><th>3</th><td>37</td><td>services</td><td>married</td><td>high.school</td><td>no</td><td>yes</td><td>no</td></tr><tr><th>4</th><td>40</td><td>admin.</td><td>married</td><td>basic.6y</td><td>no</td><td>no</td><td>no</td></tr><tr><th>5</th><td>56</td><td>services</td><td>married</td><td>high.school</td><td>no</td><td>no</td><td>yes</td></tr><tr><th>6</th><td>45</td><td>services</td><td>married</td><td>basic.9y</td><td>unknown</td><td>no</td><td>no</td></tr><tr><th>7</th><td>59</td><td>admin.</td><td>married</td><td>professional.course</td><td>no</td><td>no</td><td>no</td></tr><tr><th>8</th><td>41</td><td>blue-collar</td><td>married</td><td>unknown</td><td>unknown</td><td>no</td><td>no</td></tr><tr><th>9</th><td>24</td><td>technician</td><td>single</td><td>professional.course</td><td>no</td><td>yes</td><td>no</td></tr><tr><th>10</th><td>25</td><td>services</td><td>single</td><td>high.school</td><td>no</td><td>yes</td><td>no</td></tr><tr><th>11</th><td>41</td><td>blue-collar</td><td>married</td><td>unknown</td><td>unknown</td><td>no</td><td>no</td></tr><tr><th>12</th><td>25</td><td>services</td><td>single</td><td>high.school</td><td>no</td><td>yes</td><td>no</td></tr><tr><th>13</th><td>29</td><td>blue-collar</td><td>single</td><td>high.school</td><td>no</td><td>no</td><td>yes</td></tr><tr><th>14</th><td>57</td><td>housemaid</td><td>divorced</td><td>basic.4y</td><td>no</td><td>yes</td><td>no</td></tr><tr><th>15</th><td>35</td><td>blue-collar</td><td>married</td><td>basic.6y</td><td>no</td><td>yes</td><td>no</td></tr><tr><th>16</th><td>54</td><td>retired</td><td>married</td><td>basic.9y</td><td>unknown</td><td>yes</td><td>yes</td></tr><tr><th>17</th><td>35</td><td>blue-collar</td><td>married</td><td>basic.6y</td><td>no</td><td>yes</td><td>no</td></tr><tr><th>18</th><td>46</td><td>blue-collar</td><td>married</td><td>basic.6y</td><td>unknown</td><td>yes</td><td>yes</td></tr><tr><th>19</th><td>50</td><td>blue-collar</td><td>married</td><td>basic.9y</td><td>no</td><td>yes</td><td>yes</td></tr><tr><th>20</th><td>39</td><td>management</td><td>single</td><td>basic.9y</td><td>unknown</td><td>no</td><td>no</td></tr><tr><th>21</th><td>30</td><td>unemployed</td><td>married</td><td>high.school</td><td>no</td><td>no</td><td>no</td></tr><tr><th>22</th><td>55</td><td>blue-collar</td><td>married</td><td>basic.4y</td><td>unknown</td><td>yes</td><td>no</td></tr><tr><th>23</th><td>55</td><td>retired</td><td>single</td><td>high.school</td><td>no</td><td>yes</td><td>no</td></tr><tr><th>24</th><td>41</td><td>technician</td><td>single</td><td>high.school</td><td>no</td><td>yes</td><td>no</td></tr><tr><th>25</th><td>37</td><td>admin.</td><td>married</td><td>high.school</td><td>no</td><td>yes</td><td>no</td></tr><tr><th>26</th><td>35</td><td>technician</td><td>married</td><td>university.degree</td><td>no</td><td>no</td><td>yes</td></tr><tr><th>27</th><td>59</td><td>technician</td><td>married</td><td>unknown</td><td>no</td><td>yes</td><td>no</td></tr><tr><th>28</th><td>39</td><td>self-employed</td><td>married</td><td>basic.9y</td><td>unknown</td><td>no</td><td>no</td></tr><tr><th>29</th><td>54</td><td>technician</td><td>single</td><td>university.degree</td><td>unknown</td><td>no</td><td>no</td></tr><tr><th>30</th><td>55</td><td>unknown</td><td>married</td><td>university.degree</td><td>unknown</td><td>unknown</td><td>unknown</td></tr><tr><th>&vellip;</th><td>&vellip;</td><td>&vellip;</td><td>&vellip;</td><td>&vellip;</td><td>&vellip;</td><td>&vellip;</td><td>&vellip;</td></tr></tbody></table>"
      ],
      "text/latex": [
       "\\begin{tabular}{r|cccccccc}\n",
       "\t& age & job & marital & education & default & housing & loan & \\\\\n",
       "\t\\hline\n",
       "\t& Int64 & String & String & String & String & String & String & \\\\\n",
       "\t\\hline\n",
       "\t1 & 56 & housemaid & married & basic.4y & no & no & no & $\\dots$ \\\\\n",
       "\t2 & 57 & services & married & high.school & unknown & no & no & $\\dots$ \\\\\n",
       "\t3 & 37 & services & married & high.school & no & yes & no & $\\dots$ \\\\\n",
       "\t4 & 40 & admin. & married & basic.6y & no & no & no & $\\dots$ \\\\\n",
       "\t5 & 56 & services & married & high.school & no & no & yes & $\\dots$ \\\\\n",
       "\t6 & 45 & services & married & basic.9y & unknown & no & no & $\\dots$ \\\\\n",
       "\t7 & 59 & admin. & married & professional.course & no & no & no & $\\dots$ \\\\\n",
       "\t8 & 41 & blue-collar & married & unknown & unknown & no & no & $\\dots$ \\\\\n",
       "\t9 & 24 & technician & single & professional.course & no & yes & no & $\\dots$ \\\\\n",
       "\t10 & 25 & services & single & high.school & no & yes & no & $\\dots$ \\\\\n",
       "\t11 & 41 & blue-collar & married & unknown & unknown & no & no & $\\dots$ \\\\\n",
       "\t12 & 25 & services & single & high.school & no & yes & no & $\\dots$ \\\\\n",
       "\t13 & 29 & blue-collar & single & high.school & no & no & yes & $\\dots$ \\\\\n",
       "\t14 & 57 & housemaid & divorced & basic.4y & no & yes & no & $\\dots$ \\\\\n",
       "\t15 & 35 & blue-collar & married & basic.6y & no & yes & no & $\\dots$ \\\\\n",
       "\t16 & 54 & retired & married & basic.9y & unknown & yes & yes & $\\dots$ \\\\\n",
       "\t17 & 35 & blue-collar & married & basic.6y & no & yes & no & $\\dots$ \\\\\n",
       "\t18 & 46 & blue-collar & married & basic.6y & unknown & yes & yes & $\\dots$ \\\\\n",
       "\t19 & 50 & blue-collar & married & basic.9y & no & yes & yes & $\\dots$ \\\\\n",
       "\t20 & 39 & management & single & basic.9y & unknown & no & no & $\\dots$ \\\\\n",
       "\t21 & 30 & unemployed & married & high.school & no & no & no & $\\dots$ \\\\\n",
       "\t22 & 55 & blue-collar & married & basic.4y & unknown & yes & no & $\\dots$ \\\\\n",
       "\t23 & 55 & retired & single & high.school & no & yes & no & $\\dots$ \\\\\n",
       "\t24 & 41 & technician & single & high.school & no & yes & no & $\\dots$ \\\\\n",
       "\t25 & 37 & admin. & married & high.school & no & yes & no & $\\dots$ \\\\\n",
       "\t26 & 35 & technician & married & university.degree & no & no & yes & $\\dots$ \\\\\n",
       "\t27 & 59 & technician & married & unknown & no & yes & no & $\\dots$ \\\\\n",
       "\t28 & 39 & self-employed & married & basic.9y & unknown & no & no & $\\dots$ \\\\\n",
       "\t29 & 54 & technician & single & university.degree & unknown & no & no & $\\dots$ \\\\\n",
       "\t30 & 55 & unknown & married & university.degree & unknown & unknown & unknown & $\\dots$ \\\\\n",
       "\t$\\dots$ & $\\dots$ & $\\dots$ & $\\dots$ & $\\dots$ & $\\dots$ & $\\dots$ & $\\dots$ &  \\\\\n",
       "\\end{tabular}\n"
      ],
      "text/plain": [
       "41188×21 DataFrame. Omitted printing of 16 columns\n",
       "│ Row   │ age   │ job         │ marital  │ education           │ default │\n",
       "│       │ \u001b[90mInt64\u001b[39m │ \u001b[90mString\u001b[39m      │ \u001b[90mString\u001b[39m   │ \u001b[90mString\u001b[39m              │ \u001b[90mString\u001b[39m  │\n",
       "├───────┼───────┼─────────────┼──────────┼─────────────────────┼─────────┤\n",
       "│ 1     │ 56    │ housemaid   │ married  │ basic.4y            │ no      │\n",
       "│ 2     │ 57    │ services    │ married  │ high.school         │ unknown │\n",
       "│ 3     │ 37    │ services    │ married  │ high.school         │ no      │\n",
       "│ 4     │ 40    │ admin.      │ married  │ basic.6y            │ no      │\n",
       "│ 5     │ 56    │ services    │ married  │ high.school         │ no      │\n",
       "│ 6     │ 45    │ services    │ married  │ basic.9y            │ unknown │\n",
       "│ 7     │ 59    │ admin.      │ married  │ professional.course │ no      │\n",
       "│ 8     │ 41    │ blue-collar │ married  │ unknown             │ unknown │\n",
       "│ 9     │ 24    │ technician  │ single   │ professional.course │ no      │\n",
       "│ 10    │ 25    │ services    │ single   │ high.school         │ no      │\n",
       "⋮\n",
       "│ 41178 │ 57    │ retired     │ married  │ professional.course │ no      │\n",
       "│ 41179 │ 62    │ retired     │ married  │ university.degree   │ no      │\n",
       "│ 41180 │ 64    │ retired     │ divorced │ professional.course │ no      │\n",
       "│ 41181 │ 36    │ admin.      │ married  │ university.degree   │ no      │\n",
       "│ 41182 │ 37    │ admin.      │ married  │ university.degree   │ no      │\n",
       "│ 41183 │ 29    │ unemployed  │ single   │ basic.4y            │ no      │\n",
       "│ 41184 │ 73    │ retired     │ married  │ professional.course │ no      │\n",
       "│ 41185 │ 46    │ blue-collar │ married  │ professional.course │ no      │\n",
       "│ 41186 │ 56    │ retired     │ married  │ university.degree   │ no      │\n",
       "│ 41187 │ 44    │ technician  │ married  │ professional.course │ no      │\n",
       "│ 41188 │ 74    │ retired     │ married  │ professional.course │ no      │"
      ]
     },
     "execution_count": 2,
     "metadata": {},
     "output_type": "execute_result"
    }
   ],
   "source": [
    "# Load the dataset\n",
    "file_path = \"bank-additional-full.csv\"\n",
    "df = CSV.read(file_path)"
   ]
  },
  {
   "cell_type": "code",
   "execution_count": 3,
   "metadata": {},
   "outputs": [
    {
     "data": {
      "text/plain": [
       "41188-element Array{String,1}:\n",
       " #undef\n",
       " #undef\n",
       " #undef\n",
       " #undef\n",
       " #undef\n",
       " #undef\n",
       " #undef\n",
       " #undef\n",
       " #undef\n",
       " #undef\n",
       " #undef\n",
       " #undef\n",
       " #undef\n",
       "   ⋮   \n",
       " #undef\n",
       " #undef\n",
       " #undef\n",
       " #undef\n",
       " #undef\n",
       " #undef\n",
       " #undef\n",
       " #undef\n",
       " #undef\n",
       " #undef\n",
       " #undef\n",
       " #undef"
      ]
     },
     "execution_count": 3,
     "metadata": {},
     "output_type": "execute_result"
    }
   ],
   "source": [
    "# Convert dataframe to matrix\n",
    "m = convert(Matrix, df)\n",
    "# Categorical feature vectors which need mapping to numbers\n",
    "marital_vector = Array{String,1}(undef, size(m)[1])\n",
    "default_vector = Array{String,1}(undef, size(m)[1])\n",
    "loan_vector = Array{String,1}(undef, size(m)[1])\n",
    "month_vector = Array{String,1}(undef, size(m)[1])\n",
    "duration_vector = Array{Int64,1}(undef, size(m)[1])\n",
    "poutcome_vector = Array{String,1}(undef, size(m)[1])\n",
    "job_vector = Array{String,1}(undef, size(m)[1])\n",
    "education_vector = Array{String,1}(undef, size(m)[1])\n",
    "housing_vector = Array{String,1}(undef, size(m)[1])\n",
    "contact_vector = Array{String,1}(undef, size(m)[1])\n",
    "dow_vector = Array{String,1}(undef, size(m)[1])\n",
    "y_vector = Array{String,1}(undef, size(m)[1])"
   ]
  },
  {
   "cell_type": "code",
   "execution_count": 4,
   "metadata": {},
   "outputs": [],
   "source": [
    "# Map categorical features to numbers\n",
    "for i in 1:size(m)[1]\n",
    "    for j in 1:size(m)[2]\n",
    "        # Check if columns match\n",
    "        if j == 3\n",
    "            marital_vector[i] = m[i,j]\n",
    "        elseif j == 5\n",
    "            default_vector[i] = m[i,j]\n",
    "        elseif j == 7\n",
    "            loan_vector[i] = m[i,j]\n",
    "        elseif j == 9\n",
    "            month_vector[i] = m[i,j]\n",
    "        elseif j == 11\n",
    "            duration_vector[i] = m[i,j]\n",
    "        elseif j == 15\n",
    "            poutcome_vector[i] = m[i,j]\n",
    "        elseif j == 2\n",
    "            job_vector[i] = m[i,j]\n",
    "        elseif j == 4\n",
    "            education_vector[i] = m[i,j]\n",
    "        elseif j == 6\n",
    "            housing_vector[i] = m[i,j]\n",
    "        elseif j == 8\n",
    "            contact_vector[i] = m[i,j]\n",
    "        elseif j == 10\n",
    "            dow_vector[i] = m[i,j]\n",
    "        elseif j == 21\n",
    "            y_vector[i] = m[i,j]\n",
    "        end\n",
    "    end\n",
    "end"
   ]
  },
  {
   "cell_type": "code",
   "execution_count": 5,
   "metadata": {},
   "outputs": [
    {
     "data": {
      "text/plain": [
       "map_to_int (generic function with 2 methods)"
      ]
     },
     "execution_count": 5,
     "metadata": {},
     "output_type": "execute_result"
    }
   ],
   "source": [
    "function map_to_int(arr, T, initial_count=nothing)\n",
    "    # Dynamically map the strings to numbers\n",
    "    unique_list = T[]\n",
    "    for v in arr\n",
    "        if v in unique_list\n",
    "            continue\n",
    "        else\n",
    "            push!(unique_list, v)\n",
    "        end\n",
    "    end\n",
    "    cleaned_list = Array{Int64, 1}(undef, length(arr))\n",
    "    if initial_count == nothing\n",
    "        count = 1\n",
    "    else\n",
    "        # Works since dataset has \"no\" as first and not \"yes\",\n",
    "        # not the best way but is suitable for now\n",
    "        count = initial_count\n",
    "    end\n",
    "    for i in unique_list\n",
    "        for j in 1:length(arr)\n",
    "            if arr[j] == i\n",
    "                cleaned_list[j] = count\n",
    "            end\n",
    "        end\n",
    "        count += 1\n",
    "    end\n",
    "    return cleaned_list\n",
    "\n",
    "end"
   ]
  },
  {
   "cell_type": "code",
   "execution_count": 6,
   "metadata": {},
   "outputs": [
    {
     "data": {
      "text/plain": [
       "41188-element Array{Int64,1}:\n",
       " 0\n",
       " 0\n",
       " 0\n",
       " 0\n",
       " 0\n",
       " 0\n",
       " 0\n",
       " 0\n",
       " 0\n",
       " 0\n",
       " 0\n",
       " 0\n",
       " 0\n",
       " ⋮\n",
       " 0\n",
       " 0\n",
       " 1\n",
       " 0\n",
       " 0\n",
       " 1\n",
       " 0\n",
       " 1\n",
       " 0\n",
       " 0\n",
       " 1\n",
       " 0"
      ]
     },
     "execution_count": 6,
     "metadata": {},
     "output_type": "execute_result"
    }
   ],
   "source": [
    "cleaned_marital = map_to_int(marital_vector, String)\n",
    "cleaned_default = map_to_int(default_vector, String)\n",
    "cleaned_loan = map_to_int(loan_vector, String)\n",
    "cleaned_month = map_to_int(month_vector, String)\n",
    "\n",
    "cleaned_duration = map_to_int(duration_vector, Int64)\n",
    "cleaned_poutcome = map_to_int(poutcome_vector, String)\n",
    "cleaned_job = map_to_int(job_vector, String)\n",
    "cleaned_education = map_to_int(education_vector, String)\n",
    "\n",
    "cleaned_housing = map_to_int(housing_vector, String)\n",
    "cleaned_contact = map_to_int(contact_vector, String)\n",
    "cleaned_dow = map_to_int(dow_vector, String)\n",
    "# Special case where we want only 1 and 0 \n",
    "y = map_to_int(y_vector, String, 0)"
   ]
  },
  {
   "cell_type": "code",
   "execution_count": 7,
   "metadata": {},
   "outputs": [],
   "source": [
    "# Update the matrix with the numerical mapped equivalents\n",
    "for i in 1:size(m)[1]\n",
    "    for j in 1:size(m)[2]\n",
    "        if j == 3\n",
    "            m[i,j] = cleaned_marital[i]\n",
    "        elseif j == 5\n",
    "            m[i,j] = cleaned_default[i]\n",
    "        elseif j == 7\n",
    "            m[i,j] = cleaned_loan[i]\n",
    "        elseif j == 9\n",
    "            m[i,j] = cleaned_month[i]\n",
    "        elseif j == 11\n",
    "            m[i,j] = cleaned_duration[i]\n",
    "        elseif j == 15\n",
    "            m[i,j] = cleaned_poutcome[i]\n",
    "        elseif j == 2\n",
    "            m[i,j] = cleaned_job[i]\n",
    "        elseif j == 4\n",
    "            m[i,j] = cleaned_education[i]\n",
    "        elseif j == 6\n",
    "            m[i,j] = cleaned_housing[i]\n",
    "        elseif j == 8\n",
    "            m[i,j] = cleaned_contact[i]\n",
    "        elseif j == 10\n",
    "            m[i,j] = cleaned_dow[i]\n",
    "        end\n",
    "    end\n",
    "end"
   ]
  },
  {
   "cell_type": "code",
   "execution_count": 8,
   "metadata": {},
   "outputs": [],
   "source": [
    "# Remove y from feature matrix\n",
    "x = Matrix{Float64}(undef, size(m)[1], size(m)[2]-1)\n",
    "\n",
    "for i in 1:size(m)[1]\n",
    "    for j in 1:size(m)[2]-1\n",
    "        # Merge the outcome value as the last index\n",
    "        if j == size(m)[2]-1\n",
    "            x[i,j] = y[i]\n",
    "            continue\n",
    "        end\n",
    "        x[i,j] = m[i,j]\n",
    "    end\n",
    "end"
   ]
  },
  {
   "cell_type": "code",
   "execution_count": 9,
   "metadata": {},
   "outputs": [],
   "source": [
    "# Concatenate a vector of 1 to feature matrix to represent bias\n",
    "#x = hcat(x, ones(Int64, size(x)[1]))"
   ]
  },
  {
   "cell_type": "code",
   "execution_count": 10,
   "metadata": {},
   "outputs": [
    {
     "data": {
      "text/plain": [
       "41188×20 Array{Float64,2}:\n",
       " -0.00236248   -0.248664  -0.248664  …  -0.416149  -0.231391  -0.253142\n",
       "  0.000996409  -0.245362  -0.249842     -0.417366  -0.232565  -0.254321\n",
       " -0.0843215    -0.241073  -0.245552     -0.413053  -0.228278  -0.250031\n",
       " -0.0720173    -0.237754  -0.246713     -0.414241  -0.229436  -0.251192\n",
       " -0.00393143   -0.245852  -0.250332     -0.417884  -0.233052  -0.254812\n",
       " -0.0514244    -0.244083  -0.248563  …  -0.416132  -0.231282  -0.253044\n",
       "  0.00771871   -0.243231  -0.252193     -0.419792  -0.234909  -0.256674\n",
       " -0.069813     -0.235634  -0.249079     -0.416692  -0.231793  -0.25356 \n",
       " -0.142595     -0.227719  -0.241159     -0.4132    -0.228359  -0.25012 \n",
       " -0.137184     -0.240204  -0.240204     -0.412201  -0.227407  -0.249162\n",
       " -0.0704958    -0.236341  -0.249788  …  -0.417427  -0.2325    -0.254271\n",
       " -0.137645     -0.240674  -0.240674     -0.412688  -0.227876  -0.249633\n",
       " -0.121329     -0.233348  -0.24231      -0.414372  -0.229508  -0.251271\n",
       "  ⋮                                  ⋱                                 \n",
       " -0.190686     -0.333958  -0.326213     -0.534538  -0.333838  -0.33783 \n",
       " -0.0419678    -0.268583  -0.2908       -0.52097   -0.290662  -0.295244\n",
       "  0.598677     -0.232096  -0.306272     -1.07474   -0.305812  -0.306272\n",
       "  0.0300157    -0.229618  -0.243047     -0.48388   -0.251875  -0.256477\n",
       " -0.14038      -0.285625  -0.294428  …  -0.522418  -0.294304  -0.298829\n",
       " -0.177053     -0.316902  -0.325129     -0.538194  -0.325014  -0.325129\n",
       "  0.113159     -0.181846  -0.266134     -1.00786   -0.279788  -0.294229\n",
       " -0.0618731    -0.322682  -0.342146     -0.543786  -0.342037  -0.342146\n",
       " -0.115789     -0.296947  -0.309886     -0.533314  -0.309766  -0.3142  \n",
       " -0.0455302    -0.267743  -0.289964  …  -0.520176  -0.28984   -0.294408\n",
       " -0.11191      -0.282766  -0.300289     -0.527221  -0.300167  -0.300289\n",
       " -0.0148415    -0.303625  -0.324859     -0.544844  -0.32474   -0.329106"
      ]
     },
     "execution_count": 10,
     "metadata": {},
     "output_type": "execute_result"
    }
   ],
   "source": [
    "# Standardize x\n",
    "m_fit = fit(ZScoreTransform, x, dims=2)\n",
    "x = StatsBase.transform(m_fit, x)"
   ]
  },
  {
   "cell_type": "code",
   "execution_count": 11,
   "metadata": {},
   "outputs": [
    {
     "data": {
      "text/plain": [
       "8239×1 Array{Int64,2}:\n",
       " 0\n",
       " 0\n",
       " 0\n",
       " 0\n",
       " 0\n",
       " 0\n",
       " 0\n",
       " 0\n",
       " 0\n",
       " 0\n",
       " 0\n",
       " 0\n",
       " 0\n",
       " ⋮\n",
       " 0\n",
       " 0\n",
       " 1\n",
       " 0\n",
       " 0\n",
       " 1\n",
       " 0\n",
       " 1\n",
       " 0\n",
       " 0\n",
       " 1\n",
       " 0"
      ]
     },
     "execution_count": 11,
     "metadata": {},
     "output_type": "execute_result"
    }
   ],
   "source": [
    "# Split into testing and training\n",
    "TRAIN_PERCENT = 0.8\n",
    "# Calculate number of rows to use as train sample\n",
    "training_row_length = trunc(Int64, size(x)[1] * TRAIN_PERCENT)\n",
    "training_x = x[1:training_row_length-1, :]\n",
    "testing_x = x[training_row_length: size(x)[1], :]\n",
    "\n",
    "training_y = y[1:training_row_length-1, :]\n",
    "testing_y = y[training_row_length: size(y)[1], :]"
   ]
  },
  {
   "cell_type": "code",
   "execution_count": 12,
   "metadata": {},
   "outputs": [
    {
     "data": {
      "text/plain": [
       "hypothesis (generic function with 1 method)"
      ]
     },
     "execution_count": 12,
     "metadata": {},
     "output_type": "execute_result"
    }
   ],
   "source": [
    "function hypothesis(v_theta, x)\n",
    "    z = transpose(v_theta) * x\n",
    "    # Sigmoid\n",
    "    return 1/(1+exp(-z))\n",
    "end"
   ]
  },
  {
   "cell_type": "code",
   "execution_count": 13,
   "metadata": {},
   "outputs": [
    {
     "data": {
      "text/plain": [
       "sum_square_theta (generic function with 1 method)"
      ]
     },
     "execution_count": 13,
     "metadata": {},
     "output_type": "execute_result"
    }
   ],
   "source": [
    "function sum_square_theta(theta)\n",
    "    res = 0\n",
    "    for i in 1:size(theta)[1]\n",
    "        res += theta[i]^2\n",
    "    end\n",
    "    return res\n",
    "end"
   ]
  },
  {
   "cell_type": "code",
   "execution_count": 14,
   "metadata": {},
   "outputs": [
    {
     "data": {
      "text/plain": [
       "0.6489695399886286"
      ]
     },
     "execution_count": 14,
     "metadata": {},
     "output_type": "execute_result"
    }
   ],
   "source": [
    "function cost_function(X, Y, theta, lambda)\n",
    "    m = size(X)[1]\n",
    "    cross_result = 0 # result of cross-entropy function\n",
    "    for i in 1:m\n",
    "        y = Y[i]\n",
    "        x = X[i, :]\n",
    "        cross_result += (1-y)*log(hypothesis(theta, x))\n",
    "#         println((1-y)*log(hypothesis(theta, x)))\n",
    "    end\n",
    "    # regularize\n",
    "#     println(cross_result)\n",
    "    cross_result += (lambda/2*m)*sum_square_theta(theta)\n",
    "#     println(cross_result)\n",
    "    return -(1/m)*cross_result\n",
    "end\n",
    "cost_function(training_x, training_y, zeros(size(training_x)[2]), 0.2)"
   ]
  },
  {
   "cell_type": "code",
   "execution_count": 21,
   "metadata": {
    "collapsed": true
   },
   "outputs": [
    {
     "data": {
      "text/plain": [
       "20-element Array{Float64,1}:\n",
       "   2.448537299723549e-8 \n",
       "   3.654113917772598e-8 \n",
       "   3.766700222593438e-8 \n",
       "   3.798581416024118e-8 \n",
       "   3.805329940403197e-8 \n",
       "   3.803457958852789e-8 \n",
       "   3.822804761800197e-8 \n",
       "   3.7678226864746915e-8\n",
       "   3.80576386024865e-8  \n",
       "   3.8057638361898347e-8\n",
       "  -1.1771485628040417e-6\n",
       "   3.747099413860814e-8 \n",
       " Inf                    \n",
       "   7.686867266219111e-8 \n",
       "   7.6115297313212e-8   \n",
       "   7.821112372911533e-8 \n",
       "  -2.4026835438140403e-8\n",
       "   1.0639706279706901e-7\n",
       "   7.588896550763635e-8 \n",
       "   7.686865377610943e-8 "
      ]
     },
     "execution_count": 21,
     "metadata": {},
     "output_type": "execute_result"
    }
   ],
   "source": [
    "function update_theta(X, Y, theta, lr, lambda)\n",
    "    m = size(X)[1]\n",
    "    for j in 1:size(theta)[1]\n",
    "        if j == 1\n",
    "            temp1 = 0 # summation result when theta index 0\n",
    "            for i in 1:m\n",
    "                x = X[i, :]\n",
    "                y = Y[i:i, :][1]\n",
    "                temp1 += hypothesis(theta, x) - y\n",
    "                temp1 *= x[1]\n",
    "            end\n",
    "            theta[1] = theta[1] - lr*(1/m)*temp1\n",
    "        else\n",
    "            temp2 = 0 # summation result when theta index not 0\n",
    "            for i in 1:m\n",
    "                x = X[i, :]\n",
    "                y = Y[i:i, :][1]\n",
    "                temp2 += hypothesis(theta, x) - y\n",
    "                temp2 *= x[j]\n",
    "                temp2 += (lambda/m) * theta[j]\n",
    "            end\n",
    "            theta[j] = theta[j] - lr*(1/m)*temp2\n",
    "        end\n",
    "    end\n",
    "    return theta\n",
    "end\n",
    "# update_theta(training_x, training_y,zeros(size(training_x)[2]), 0.01, 0.02)"
   ]
  },
  {
   "cell_type": "code",
   "execution_count": null,
   "metadata": {},
   "outputs": [],
   "source": []
  }
 ],
 "metadata": {
  "kernelspec": {
   "display_name": "Julia 1.0.5",
   "language": "julia",
   "name": "julia-1.0"
  },
  "language_info": {
   "file_extension": ".jl",
   "mimetype": "application/julia",
   "name": "julia",
   "version": "1.0.5"
  }
 },
 "nbformat": 4,
 "nbformat_minor": 2
}
